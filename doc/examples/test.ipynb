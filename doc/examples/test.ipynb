{
 "cells": [
  {
   "cell_type": "code",
   "execution_count": 1,
   "id": "72961bef-ebc9-46d3-8b48-8f82e63d8673",
   "metadata": {},
   "outputs": [],
   "source": [
    "%load_ext autoreload\n",
    "%autoreload 2\n",
    "\n",
    "import xbitdiff"
   ]
  },
  {
   "cell_type": "code",
   "execution_count": 2,
   "id": "adac3821-9b79-46e1-9010-83093365992c",
   "metadata": {},
   "outputs": [],
   "source": [
    "import xarray as xr\n",
    "import zarr"
   ]
  },
  {
   "cell_type": "markdown",
   "id": "4e359063-f8d2-4b0e-aa44-1a6b3d785162",
   "metadata": {},
   "source": [
    "create the dataset"
   ]
  },
  {
   "cell_type": "code",
   "execution_count": 6,
   "id": "bec41f1f-71ad-4ff1-a012-2f1d24dafceb",
   "metadata": {},
   "outputs": [],
   "source": [
    "import numpy as np\n",
    "import pandas as pd\n",
    "\n",
    "np.random.seed(0)\n",
    "xy_dim = 50\n",
    "temperature = 15 + 8 * np.random.randn(xy_dim, xy_dim, 100)\n",
    "lon = np.tile(np.linspace(-99, -98, num=xy_dim), (xy_dim, 1))\n",
    "lat = np.tile(np.linspace(42, 43, num=xy_dim), (xy_dim, 1))\n",
    "time = pd.date_range(\"2014-09-06\", periods=100)\n",
    "reference_time = pd.Timestamp(\"2014-09-05\")"
   ]
  },
  {
   "cell_type": "markdown",
   "id": "430f28ee-f82c-4428-be51-e823c3b0e8e4",
   "metadata": {},
   "source": [
    "create the dataset"
   ]
  },
  {
   "cell_type": "code",
   "execution_count": 10,
   "id": "df68a052-61dd-4579-a77e-84c99ce9dcb7",
   "metadata": {},
   "outputs": [],
   "source": [
    "ds = xr.Dataset(\n",
    "    data_vars=dict(\n",
    "        temperature=([\"x\", \"y\", \"time\"], temperature),\n",
    "    ),\n",
    "    coords=dict(\n",
    "        lon=([\"x\", \"y\"], lon),\n",
    "        lat=([\"x\", \"y\"], lat),\n",
    "        time=time,\n",
    "        reference_time=reference_time,\n",
    "    ),\n",
    "    attrs=dict(description=\"Random temperature data.\"),\n",
    ")"
   ]
  },
  {
   "cell_type": "markdown",
   "id": "e2f840c2-f283-4ebd-9c54-f1bb249281fd",
   "metadata": {},
   "source": [
    "and save it as a zarr"
   ]
  },
  {
   "cell_type": "code",
   "execution_count": 11,
   "id": "3906c8d6-8098-4437-840d-899786fecd6d",
   "metadata": {},
   "outputs": [
    {
     "data": {
      "text/plain": [
       "<xarray.backends.zarr.ZarrStore at 0x7f16029f7ac0>"
      ]
     },
     "execution_count": 11,
     "metadata": {},
     "output_type": "execute_result"
    }
   ],
   "source": [
    "import zarr\n",
    "\n",
    "compressor = zarr.Blosc(cname=\"zstd\", clevel=3, shuffle=2)\n",
    "encoding = {x: {\"compressor\": compressor} for x in ds}\n",
    "ds.to_zarr('source.zarr', encoding=encoding)"
   ]
  },
  {
   "cell_type": "markdown",
   "id": "5cc36417-3e0e-43e8-b913-2efe91230e8a",
   "metadata": {},
   "source": [
    "Now open, create a new dataset, a diff, and save them back to zarr."
   ]
  },
  {
   "cell_type": "code",
   "execution_count": 12,
   "id": "022854a3-448b-49b8-b965-f581eac59a1f",
   "metadata": {},
   "outputs": [
    {
     "data": {
      "text/plain": [
       "<xarray.backends.zarr.ZarrStore at 0x7f16028c6ec0>"
      ]
     },
     "execution_count": 12,
     "metadata": {},
     "output_type": "execute_result"
    }
   ],
   "source": [
    "import xbitdiff\n",
    "\n",
    "ds = xbitdiff.open_dataset('source.zarr', engine='zarr')\n",
    "\n",
    "# create a new dataset\n",
    "ds2 = ds + 1\n",
    "\n",
    "# compute the diff\n",
    "diff = ds2.bitdiff.diff(ds)\n",
    "\n",
    "# now save the new dataset and the diff\n",
    "ds2.to_zarr('source2.zarr', encoding=encoding)\n",
    "diff.to_zarr('diff.zarr', encoding=encoding)"
   ]
  },
  {
   "cell_type": "markdown",
   "id": "5b440223-ee18-42ba-9b06-45dab4698d30",
   "metadata": {},
   "source": [
    "Finally, check the size of the compressed zarr store."
   ]
  },
  {
   "cell_type": "code",
   "execution_count": 13,
   "id": "9a4b6020-0c4e-4310-8e99-14cd87a57c4b",
   "metadata": {},
   "outputs": [
    {
     "name": "stdout",
     "output_type": "stream",
     "text": [
      "36K\tdiff.zarr\n",
      "1.8M\tsource.zarr\n",
      "1.8M\tsource2.zarr\n"
     ]
    }
   ],
   "source": [
    "!du -h --max-depth=0 *.zarr"
   ]
  }
 ],
 "metadata": {
  "kernelspec": {
   "display_name": "pangeo",
   "language": "python",
   "name": "pangeo"
  },
  "language_info": {
   "codemirror_mode": {
    "name": "ipython",
    "version": 3
   },
   "file_extension": ".py",
   "mimetype": "text/x-python",
   "name": "python",
   "nbconvert_exporter": "python",
   "pygments_lexer": "ipython3",
   "version": "3.12.0"
  }
 },
 "nbformat": 4,
 "nbformat_minor": 5
}
